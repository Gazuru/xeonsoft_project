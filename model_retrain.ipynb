{
 "cells": [
  {
   "cell_type": "code",
   "execution_count": 1,
   "metadata": {
    "collapsed": false
   },
   "outputs": [
    {
     "name": "stdout",
     "output_type": "stream",
     "text": [
      "Found existing installation: tensorflow 1.13.1\n",
      "Uninstalling tensorflow-1.13.1:\n",
      "  Successfully uninstalled tensorflow-1.13.1\n",
      "Found existing installation: tensorboard 1.13.1\n",
      "Uninstalling tensorboard-1.13.1:\n",
      "  Successfully uninstalled tensorboard-1.13.1\n"
     ]
    }
   ],
   "source": [
    "! pip uninstall tensorflow tensorboard -y"
   ]
  },
  {
   "cell_type": "code",
   "execution_count": 2,
   "metadata": {
    "collapsed": false,
    "scrolled": true
   },
   "outputs": [
    {
     "name": "stdout",
     "output_type": "stream",
     "text": [
      "Requirement already satisfied: setuptools in ./anaconda3/envs/venv_x/lib/python3.6/site-packages (52.0.0.post20210125)\n",
      "Collecting setuptools\n",
      "  Using cached setuptools-57.2.0-py3-none-any.whl (818 kB)\n",
      "Installing collected packages: setuptools\n",
      "  Attempting uninstall: setuptools\n",
      "    Found existing installation: setuptools 52.0.0.post20210125\n",
      "    Uninstalling setuptools-52.0.0.post20210125:\n",
      "      Successfully uninstalled setuptools-52.0.0.post20210125\n",
      "Successfully installed setuptools-57.2.0\n"
     ]
    }
   ],
   "source": [
    "! pip install --upgrade setuptools"
   ]
  },
  {
   "cell_type": "code",
   "execution_count": 3,
   "metadata": {
    "collapsed": false
   },
   "outputs": [
    {
     "name": "stdout",
     "output_type": "stream",
     "text": [
      "Collecting absl-py==0.9\n",
      "  Using cached absl_py-0.9.0-py3-none-any.whl\n",
      "Collecting jupyter-client==6.1.5\n",
      "  Using cached jupyter_client-6.1.5-py3-none-any.whl (107 kB)\n",
      "Collecting tornado==5.1.0\n",
      "  Using cached tornado-5.1-cp36-cp36m-linux_x86_64.whl\n",
      "Collecting folium==0.2.1\n",
      "  Using cached folium-0.2.1-py3-none-any.whl\n",
      "Collecting imgaug==0.2.5\n",
      "  Using cached imgaug-0.2.5-py3-none-any.whl\n",
      "Collecting tensorflow==1.13.1\n",
      "  Using cached tensorflow-1.13.1-cp36-cp36m-manylinux1_x86_64.whl (92.5 MB)\n",
      "Collecting tensorboard==1.13.1\n",
      "  Using cached tensorboard-1.13.1-py3-none-any.whl (3.2 MB)\n",
      "Collecting six\n",
      "  Using cached six-1.16.0-py2.py3-none-any.whl (11 kB)\n",
      "Collecting python-dateutil>=2.1\n",
      "  Using cached python_dateutil-2.8.2-py2.py3-none-any.whl (247 kB)\n",
      "Collecting jupyter-core>=4.6.0\n",
      "  Using cached jupyter_core-4.7.1-py3-none-any.whl (82 kB)\n",
      "Collecting traitlets\n",
      "  Using cached traitlets-4.3.3-py2.py3-none-any.whl (75 kB)\n",
      "Collecting pyzmq>=13\n",
      "  Using cached pyzmq-22.1.0-cp36-cp36m-manylinux1_x86_64.whl (1.1 MB)\n",
      "Collecting Jinja2\n",
      "  Using cached Jinja2-3.0.1-py3-none-any.whl (133 kB)\n",
      "Collecting scikit-image>=0.11.0\n",
      "  Using cached scikit_image-0.17.2-cp36-cp36m-manylinux1_x86_64.whl (12.4 MB)\n",
      "Collecting scipy\n",
      "  Using cached scipy-1.5.4-cp36-cp36m-manylinux1_x86_64.whl (25.9 MB)\n",
      "Collecting numpy>=1.7.0\n",
      "  Using cached numpy-1.19.5-cp36-cp36m-manylinux2010_x86_64.whl (14.8 MB)\n",
      "Collecting tensorflow-estimator<1.14.0rc0,>=1.13.0\n",
      "  Using cached tensorflow_estimator-1.13.0-py2.py3-none-any.whl (367 kB)\n",
      "Collecting keras-applications>=1.0.6\n",
      "  Using cached Keras_Applications-1.0.8-py3-none-any.whl (50 kB)\n",
      "Collecting gast>=0.2.0\n",
      "  Using cached gast-0.5.0-py3-none-any.whl (10 kB)\n",
      "Collecting keras-preprocessing>=1.0.5\n",
      "  Using cached Keras_Preprocessing-1.1.2-py2.py3-none-any.whl (42 kB)\n",
      "Collecting wheel>=0.26\n",
      "  Using cached wheel-0.36.2-py2.py3-none-any.whl (35 kB)\n",
      "Collecting termcolor>=1.1.0\n",
      "  Using cached termcolor-1.1.0-py3-none-any.whl\n",
      "Collecting grpcio>=1.8.6\n",
      "  Using cached grpcio-1.38.1-cp36-cp36m-manylinux2014_x86_64.whl (4.2 MB)\n",
      "Collecting astor>=0.6.0\n",
      "  Using cached astor-0.8.1-py2.py3-none-any.whl (27 kB)\n",
      "Collecting protobuf>=3.6.1\n",
      "  Using cached protobuf-3.17.3-cp36-cp36m-manylinux_2_5_x86_64.manylinux1_x86_64.whl (1.0 MB)\n",
      "Collecting markdown>=2.6.8\n",
      "  Using cached Markdown-3.3.4-py3-none-any.whl (97 kB)\n",
      "Collecting werkzeug>=0.11.15\n",
      "  Using cached Werkzeug-2.0.1-py3-none-any.whl (288 kB)\n",
      "Collecting h5py\n",
      "  Using cached h5py-3.1.0-cp36-cp36m-manylinux1_x86_64.whl (4.0 MB)\n",
      "Collecting importlib-metadata\n",
      "  Using cached importlib_metadata-4.6.1-py3-none-any.whl (17 kB)\n",
      "Collecting networkx>=2.0\n",
      "  Using cached networkx-2.5.1-py3-none-any.whl (1.6 MB)\n",
      "Collecting PyWavelets>=1.1.1\n",
      "  Using cached PyWavelets-1.1.1-cp36-cp36m-manylinux1_x86_64.whl (4.4 MB)\n",
      "Collecting pillow!=7.1.0,!=7.1.1,>=4.3.0\n",
      "  Using cached Pillow-8.3.1-cp36-cp36m-manylinux_2_5_x86_64.manylinux1_x86_64.whl (3.0 MB)\n",
      "Collecting tifffile>=2019.7.26\n",
      "  Using cached tifffile-2020.9.3-py3-none-any.whl (148 kB)\n",
      "Collecting imageio>=2.3.0\n",
      "  Using cached imageio-2.9.0-py3-none-any.whl (3.3 MB)\n",
      "Collecting matplotlib!=3.0.0,>=2.0.0\n",
      "  Using cached matplotlib-3.3.4-cp36-cp36m-manylinux1_x86_64.whl (11.5 MB)\n",
      "Collecting kiwisolver>=1.0.1\n",
      "  Using cached kiwisolver-1.3.1-cp36-cp36m-manylinux1_x86_64.whl (1.1 MB)\n",
      "Collecting cycler>=0.10\n",
      "  Using cached cycler-0.10.0-py2.py3-none-any.whl (6.5 kB)\n",
      "Collecting pyparsing!=2.0.4,!=2.1.2,!=2.1.6,>=2.0.3\n",
      "  Using cached pyparsing-2.4.7-py2.py3-none-any.whl (67 kB)\n",
      "Collecting decorator<5,>=4.3\n",
      "  Using cached decorator-4.4.2-py2.py3-none-any.whl (9.2 kB)\n",
      "Collecting mock>=2.0.0\n",
      "  Using cached mock-4.0.3-py3-none-any.whl (28 kB)\n",
      "Collecting dataclasses\n",
      "  Using cached dataclasses-0.8-py3-none-any.whl (19 kB)\n",
      "Collecting cached-property\n",
      "  Using cached cached_property-1.5.2-py2.py3-none-any.whl (7.6 kB)\n",
      "Collecting zipp>=0.5\n",
      "  Using cached zipp-3.5.0-py3-none-any.whl (5.7 kB)\n",
      "Collecting typing-extensions>=3.6.4\n",
      "  Using cached typing_extensions-3.10.0.0-py3-none-any.whl (26 kB)\n",
      "Collecting MarkupSafe>=2.0\n",
      "  Using cached MarkupSafe-2.0.1-cp36-cp36m-manylinux2010_x86_64.whl (30 kB)\n",
      "Collecting ipython-genutils\n",
      "  Using cached ipython_genutils-0.2.0-py2.py3-none-any.whl (26 kB)\n",
      "Installing collected packages: zipp, typing-extensions, six, python-dateutil, pyparsing, pillow, numpy, kiwisolver, ipython-genutils, importlib-metadata, decorator, dataclasses, cycler, cached-property, wheel, werkzeug, traitlets, tifffile, scipy, PyWavelets, protobuf, networkx, mock, matplotlib, MarkupSafe, markdown, imageio, h5py, grpcio, absl-py, tornado, termcolor, tensorflow-estimator, tensorboard, scikit-image, pyzmq, keras-preprocessing, keras-applications, jupyter-core, Jinja2, gast, astor, tensorflow, jupyter-client, imgaug, folium\n",
      "Successfully installed Jinja2-3.0.1 MarkupSafe-2.0.1 PyWavelets-1.1.1 absl-py-0.9.0 astor-0.8.1 cached-property-1.5.2 cycler-0.10.0 dataclasses-0.8 decorator-4.4.2 folium-0.2.1 gast-0.5.0 grpcio-1.38.1 h5py-3.1.0 imageio-2.9.0 imgaug-0.2.5 importlib-metadata-4.6.1 ipython-genutils-0.2.0 jupyter-client-6.1.5 jupyter-core-4.7.1 keras-applications-1.0.8 keras-preprocessing-1.1.2 kiwisolver-1.3.1 markdown-3.3.4 matplotlib-3.3.4 mock-4.0.3 networkx-2.5.1 numpy-1.19.5 pillow-8.3.1 protobuf-3.17.3 pyparsing-2.4.7 python-dateutil-2.8.2 pyzmq-22.1.0 scikit-image-0.17.2 scipy-1.5.4 six-1.16.0 tensorboard-1.13.1 tensorflow-1.13.1 tensorflow-estimator-1.13.0 termcolor-1.1.0 tifffile-2020.9.3 tornado-5.1 traitlets-4.3.3 typing-extensions-3.10.0.0 werkzeug-2.0.1 wheel-0.36.2 zipp-3.5.0\n"
     ]
    }
   ],
   "source": [
    "! pip install -I absl-py==0.9 jupyter-client==6.1.5 tornado==5.1.0 folium==0.2.1 imgaug==0.2.5 tensorflow==1.13.1 tensorboard==1.13.1"
   ]
  },
  {
   "cell_type": "code",
   "execution_count": 4,
   "metadata": {
    "collapsed": false
   },
   "outputs": [
    {
     "name": "stdout",
     "output_type": "stream",
     "text": [
      "fatal: destination path 'tensorflow-for-poets-2' already exists and is not an empty directory.\n",
      "/home/gazuru/tensorflow-for-poets-2\n"
     ]
    }
   ],
   "source": [
    "! git clone https://github.com/googlecodelabs/tensorflow-for-poets-2\n",
    "\n",
    "%cd tensorflow-for-poets-2"
   ]
  },
  {
   "cell_type": "code",
   "execution_count": 5,
   "metadata": {
    "collapsed": false
   },
   "outputs": [
    {
     "name": "stdout",
     "output_type": "stream",
     "text": [
      "  % Total    % Received % Xferd  Average Speed   Time    Time     Time  Current\n",
      "                                 Dload  Upload   Total   Spent    Left  Speed\n",
      "100  218M  100  218M    0     0  22.0M      0  0:00:09  0:00:09 --:--:-- 22.1M\n"
     ]
    }
   ],
   "source": [
    "! curl http://download.tensorflow.org/example_images/flower_photos.tgz | tar xz -C tf_files"
   ]
  },
  {
   "cell_type": "code",
   "execution_count": 6,
   "metadata": {
    "collapsed": false
   },
   "outputs": [
    {
     "name": "stdout",
     "output_type": "stream",
     "text": [
      "daisy  dandelion  LICENSE.txt  roses  sunflowers  tulips\r\n"
     ]
    }
   ],
   "source": [
    "! ls tf_files/flower_photos"
   ]
  },
  {
   "cell_type": "code",
   "execution_count": 7,
   "metadata": {
    "collapsed": false
   },
   "outputs": [
    {
     "name": "stdout",
     "output_type": "stream",
     "text": [
      "env: ARCHITECTURE=mobilenet_0.50_160\n"
     ]
    }
   ],
   "source": [
    "IMAGE_SIZE='160'\n",
    "MULTIPLIER='0.50'\n",
    "%env ARCHITECTURE=mobilenet_{MULTIPLIER}_{IMAGE_SIZE}"
   ]
  },
  {
   "cell_type": "code",
   "execution_count": 8,
   "metadata": {
    "collapsed": false
   },
   "outputs": [
    {
     "name": "stdout",
     "output_type": "stream",
     "text": [
      "/home/gazuru/anaconda3/envs/venv_x/lib/python3.6/site-packages/tensorflow/python/framework/dtypes.py:526: FutureWarning: Passing (type, 1) or '1type' as a synonym of type is deprecated; in a future version of numpy, it will be understood as (type, (1,)) / '(1,)type'.\n",
      "  _np_qint8 = np.dtype([(\"qint8\", np.int8, 1)])\n",
      "/home/gazuru/anaconda3/envs/venv_x/lib/python3.6/site-packages/tensorflow/python/framework/dtypes.py:527: FutureWarning: Passing (type, 1) or '1type' as a synonym of type is deprecated; in a future version of numpy, it will be understood as (type, (1,)) / '(1,)type'.\n",
      "  _np_quint8 = np.dtype([(\"quint8\", np.uint8, 1)])\n",
      "/home/gazuru/anaconda3/envs/venv_x/lib/python3.6/site-packages/tensorflow/python/framework/dtypes.py:528: FutureWarning: Passing (type, 1) or '1type' as a synonym of type is deprecated; in a future version of numpy, it will be understood as (type, (1,)) / '(1,)type'.\n",
      "  _np_qint16 = np.dtype([(\"qint16\", np.int16, 1)])\n",
      "/home/gazuru/anaconda3/envs/venv_x/lib/python3.6/site-packages/tensorflow/python/framework/dtypes.py:529: FutureWarning: Passing (type, 1) or '1type' as a synonym of type is deprecated; in a future version of numpy, it will be understood as (type, (1,)) / '(1,)type'.\n",
      "  _np_quint16 = np.dtype([(\"quint16\", np.uint16, 1)])\n",
      "/home/gazuru/anaconda3/envs/venv_x/lib/python3.6/site-packages/tensorflow/python/framework/dtypes.py:530: FutureWarning: Passing (type, 1) or '1type' as a synonym of type is deprecated; in a future version of numpy, it will be understood as (type, (1,)) / '(1,)type'.\n",
      "  _np_qint32 = np.dtype([(\"qint32\", np.int32, 1)])\n",
      "/home/gazuru/anaconda3/envs/venv_x/lib/python3.6/site-packages/tensorflow/python/framework/dtypes.py:535: FutureWarning: Passing (type, 1) or '1type' as a synonym of type is deprecated; in a future version of numpy, it will be understood as (type, (1,)) / '(1,)type'.\n",
      "  np_resource = np.dtype([(\"resource\", np.ubyte, 1)])\n",
      "WARNING:tensorflow:From scripts/retrain.py:274: FastGFile.__init__ (from tensorflow.python.platform.gfile) is deprecated and will be removed in a future version.\n",
      "Instructions for updating:\n",
      "Use tf.gfile.GFile.\n",
      "INFO:tensorflow:Looking for images in 'daisy'\n",
      "INFO:tensorflow:Looking for images in 'dandelion'\n",
      "INFO:tensorflow:Looking for images in 'roses'\n",
      "INFO:tensorflow:Looking for images in 'sunflowers'\n",
      "INFO:tensorflow:Looking for images in 'tulips'\n",
      "2021-07-16 07:29:19.200683: I tensorflow/core/platform/cpu_feature_guard.cc:141] Your CPU supports instructions that this TensorFlow binary was not compiled to use: AVX2 FMA\n",
      "2021-07-16 07:29:19.204536: I tensorflow/core/platform/profile_utils/cpu_utils.cc:94] CPU Frequency: 3593250000 Hz\n",
      "2021-07-16 07:29:19.204786: I tensorflow/compiler/xla/service/service.cc:150] XLA service 0x56256af04110 executing computations on platform Host. Devices:\n",
      "2021-07-16 07:29:19.204824: I tensorflow/compiler/xla/service/service.cc:158]   StreamExecutor device (0): <undefined>, <undefined>\n",
      "INFO:tensorflow:100 bottleneck files created.\n",
      "INFO:tensorflow:200 bottleneck files created.\n",
      "INFO:tensorflow:300 bottleneck files created.\n",
      "INFO:tensorflow:400 bottleneck files created.\n",
      "INFO:tensorflow:500 bottleneck files created.\n",
      "INFO:tensorflow:600 bottleneck files created.\n",
      "INFO:tensorflow:700 bottleneck files created.\n",
      "INFO:tensorflow:800 bottleneck files created.\n",
      "INFO:tensorflow:900 bottleneck files created.\n",
      "INFO:tensorflow:1000 bottleneck files created.\n",
      "INFO:tensorflow:1100 bottleneck files created.\n",
      "INFO:tensorflow:1200 bottleneck files created.\n",
      "INFO:tensorflow:1300 bottleneck files created.\n",
      "INFO:tensorflow:1400 bottleneck files created.\n",
      "INFO:tensorflow:1500 bottleneck files created.\n",
      "INFO:tensorflow:1600 bottleneck files created.\n",
      "INFO:tensorflow:1700 bottleneck files created.\n",
      "INFO:tensorflow:1800 bottleneck files created.\n",
      "INFO:tensorflow:1900 bottleneck files created.\n",
      "INFO:tensorflow:2000 bottleneck files created.\n",
      "INFO:tensorflow:2100 bottleneck files created.\n",
      "INFO:tensorflow:2200 bottleneck files created.\n",
      "INFO:tensorflow:2300 bottleneck files created.\n",
      "INFO:tensorflow:2400 bottleneck files created.\n",
      "INFO:tensorflow:2500 bottleneck files created.\n",
      "INFO:tensorflow:2600 bottleneck files created.\n",
      "INFO:tensorflow:2700 bottleneck files created.\n",
      "INFO:tensorflow:2800 bottleneck files created.\n",
      "INFO:tensorflow:2900 bottleneck files created.\n",
      "INFO:tensorflow:3000 bottleneck files created.\n",
      "INFO:tensorflow:3100 bottleneck files created.\n",
      "INFO:tensorflow:3200 bottleneck files created.\n",
      "INFO:tensorflow:3300 bottleneck files created.\n",
      "INFO:tensorflow:3400 bottleneck files created.\n",
      "INFO:tensorflow:3500 bottleneck files created.\n",
      "INFO:tensorflow:3600 bottleneck files created.\n",
      "WARNING:tensorflow:From /home/gazuru/anaconda3/envs/venv_x/lib/python3.6/site-packages/tensorflow/python/framework/op_def_library.py:263: colocate_with (from tensorflow.python.framework.ops) is deprecated and will be removed in a future version.\n",
      "Instructions for updating:\n",
      "Colocations handled automatically by placer.\n",
      "WARNING:tensorflow:From scripts/retrain.py:790: softmax_cross_entropy_with_logits (from tensorflow.python.ops.nn_ops) is deprecated and will be removed in a future version.\n",
      "Instructions for updating:\n",
      "\n",
      "Future major versions of TensorFlow will allow gradients to flow\n",
      "into the labels input on backprop by default.\n",
      "\n",
      "See `tf.nn.softmax_cross_entropy_with_logits_v2`.\n",
      "\n",
      "INFO:tensorflow:2021-07-16 07:29:22.925297: Step 0: Train accuracy = 50.0%\n",
      "INFO:tensorflow:2021-07-16 07:29:22.925481: Step 0: Cross entropy = 1.340110\n",
      "INFO:tensorflow:2021-07-16 07:29:23.039179: Step 0: Validation accuracy = 41.0% (N=100)\n",
      "INFO:tensorflow:2021-07-16 07:29:23.324484: Step 10: Train accuracy = 74.0%\n",
      "INFO:tensorflow:2021-07-16 07:29:23.324632: Step 10: Cross entropy = 1.667736\n",
      "INFO:tensorflow:2021-07-16 07:29:23.352036: Step 10: Validation accuracy = 73.0% (N=100)\n",
      "INFO:tensorflow:2021-07-16 07:29:23.632715: Step 20: Train accuracy = 80.0%\n",
      "INFO:tensorflow:2021-07-16 07:29:23.632849: Step 20: Cross entropy = 0.631830\n",
      "INFO:tensorflow:2021-07-16 07:29:23.659394: Step 20: Validation accuracy = 70.0% (N=100)\n",
      "INFO:tensorflow:2021-07-16 07:29:23.938387: Step 30: Train accuracy = 89.0%\n",
      "INFO:tensorflow:2021-07-16 07:29:23.938521: Step 30: Cross entropy = 0.329964\n",
      "INFO:tensorflow:2021-07-16 07:29:23.966583: Step 30: Validation accuracy = 87.0% (N=100)\n",
      "INFO:tensorflow:2021-07-16 07:29:24.240209: Step 40: Train accuracy = 93.0%\n",
      "INFO:tensorflow:2021-07-16 07:29:24.240342: Step 40: Cross entropy = 0.251132\n",
      "INFO:tensorflow:2021-07-16 07:29:24.266647: Step 40: Validation accuracy = 92.0% (N=100)\n",
      "INFO:tensorflow:2021-07-16 07:29:24.543875: Step 50: Train accuracy = 86.0%\n",
      "INFO:tensorflow:2021-07-16 07:29:24.544008: Step 50: Cross entropy = 0.303776\n",
      "INFO:tensorflow:2021-07-16 07:29:24.570768: Step 50: Validation accuracy = 89.0% (N=100)\n",
      "INFO:tensorflow:2021-07-16 07:29:24.845606: Step 60: Train accuracy = 91.0%\n",
      "INFO:tensorflow:2021-07-16 07:29:24.845776: Step 60: Cross entropy = 0.304357\n",
      "INFO:tensorflow:2021-07-16 07:29:24.872194: Step 60: Validation accuracy = 82.0% (N=100)\n",
      "INFO:tensorflow:2021-07-16 07:29:25.152751: Step 70: Train accuracy = 87.0%\n",
      "INFO:tensorflow:2021-07-16 07:29:25.152889: Step 70: Cross entropy = 0.422788\n",
      "INFO:tensorflow:2021-07-16 07:29:25.180007: Step 70: Validation accuracy = 77.0% (N=100)\n",
      "INFO:tensorflow:2021-07-16 07:29:25.459957: Step 80: Train accuracy = 88.0%\n",
      "INFO:tensorflow:2021-07-16 07:29:25.460097: Step 80: Cross entropy = 0.328914\n",
      "INFO:tensorflow:2021-07-16 07:29:25.487795: Step 80: Validation accuracy = 83.0% (N=100)\n",
      "INFO:tensorflow:2021-07-16 07:29:25.769738: Step 90: Train accuracy = 88.0%\n",
      "INFO:tensorflow:2021-07-16 07:29:25.769888: Step 90: Cross entropy = 0.337642\n",
      "INFO:tensorflow:2021-07-16 07:29:25.796942: Step 90: Validation accuracy = 89.0% (N=100)\n",
      "INFO:tensorflow:2021-07-16 07:29:26.083377: Step 100: Train accuracy = 91.0%\n",
      "INFO:tensorflow:2021-07-16 07:29:26.083516: Step 100: Cross entropy = 0.314798\n",
      "INFO:tensorflow:2021-07-16 07:29:26.111075: Step 100: Validation accuracy = 89.0% (N=100)\n",
      "INFO:tensorflow:2021-07-16 07:29:26.396932: Step 110: Train accuracy = 88.0%\n",
      "INFO:tensorflow:2021-07-16 07:29:26.397088: Step 110: Cross entropy = 0.286484\n",
      "INFO:tensorflow:2021-07-16 07:29:26.424184: Step 110: Validation accuracy = 83.0% (N=100)\n",
      "INFO:tensorflow:2021-07-16 07:29:26.702930: Step 120: Train accuracy = 88.0%\n",
      "INFO:tensorflow:2021-07-16 07:29:26.703076: Step 120: Cross entropy = 0.297242\n",
      "INFO:tensorflow:2021-07-16 07:29:26.730199: Step 120: Validation accuracy = 83.0% (N=100)\n",
      "INFO:tensorflow:2021-07-16 07:29:27.010258: Step 130: Train accuracy = 92.0%\n",
      "INFO:tensorflow:2021-07-16 07:29:27.010447: Step 130: Cross entropy = 0.233784\n",
      "INFO:tensorflow:2021-07-16 07:29:27.037419: Step 130: Validation accuracy = 89.0% (N=100)\n",
      "INFO:tensorflow:2021-07-16 07:29:27.318947: Step 140: Train accuracy = 89.0%\n",
      "INFO:tensorflow:2021-07-16 07:29:27.319126: Step 140: Cross entropy = 0.333325\n",
      "INFO:tensorflow:2021-07-16 07:29:27.347174: Step 140: Validation accuracy = 91.0% (N=100)\n",
      "INFO:tensorflow:2021-07-16 07:29:27.649051: Step 150: Train accuracy = 91.0%\n",
      "INFO:tensorflow:2021-07-16 07:29:27.649201: Step 150: Cross entropy = 0.251859\n",
      "INFO:tensorflow:2021-07-16 07:29:27.679895: Step 150: Validation accuracy = 87.0% (N=100)\n",
      "INFO:tensorflow:2021-07-16 07:29:27.977862: Step 160: Train accuracy = 95.0%\n",
      "INFO:tensorflow:2021-07-16 07:29:27.978096: Step 160: Cross entropy = 0.195871\n",
      "INFO:tensorflow:2021-07-16 07:29:28.008214: Step 160: Validation accuracy = 85.0% (N=100)\n",
      "INFO:tensorflow:2021-07-16 07:29:28.293530: Step 170: Train accuracy = 95.0%\n",
      "INFO:tensorflow:2021-07-16 07:29:28.293668: Step 170: Cross entropy = 0.158193\n",
      "INFO:tensorflow:2021-07-16 07:29:28.321085: Step 170: Validation accuracy = 88.0% (N=100)\n",
      "INFO:tensorflow:2021-07-16 07:29:28.607241: Step 180: Train accuracy = 89.0%\n",
      "INFO:tensorflow:2021-07-16 07:29:28.607399: Step 180: Cross entropy = 0.346009\n",
      "INFO:tensorflow:2021-07-16 07:29:28.634993: Step 180: Validation accuracy = 77.0% (N=100)\n",
      "INFO:tensorflow:2021-07-16 07:29:28.915109: Step 190: Train accuracy = 96.0%\n",
      "INFO:tensorflow:2021-07-16 07:29:28.915299: Step 190: Cross entropy = 0.141126\n",
      "INFO:tensorflow:2021-07-16 07:29:28.942060: Step 190: Validation accuracy = 85.0% (N=100)\n",
      "INFO:tensorflow:2021-07-16 07:29:29.233079: Step 200: Train accuracy = 95.0%\n",
      "INFO:tensorflow:2021-07-16 07:29:29.233254: Step 200: Cross entropy = 0.131808\n",
      "INFO:tensorflow:2021-07-16 07:29:29.261930: Step 200: Validation accuracy = 89.0% (N=100)\n",
      "INFO:tensorflow:2021-07-16 07:29:29.546116: Step 210: Train accuracy = 94.0%\n",
      "INFO:tensorflow:2021-07-16 07:29:29.546332: Step 210: Cross entropy = 0.171268\n",
      "INFO:tensorflow:2021-07-16 07:29:29.574305: Step 210: Validation accuracy = 88.0% (N=100)\n",
      "INFO:tensorflow:2021-07-16 07:29:29.857524: Step 220: Train accuracy = 93.0%\n",
      "INFO:tensorflow:2021-07-16 07:29:29.857676: Step 220: Cross entropy = 0.164722\n",
      "INFO:tensorflow:2021-07-16 07:29:29.884681: Step 220: Validation accuracy = 88.0% (N=100)\n",
      "INFO:tensorflow:2021-07-16 07:29:30.172431: Step 230: Train accuracy = 93.0%\n",
      "INFO:tensorflow:2021-07-16 07:29:30.172579: Step 230: Cross entropy = 0.206999\n",
      "INFO:tensorflow:2021-07-16 07:29:30.199289: Step 230: Validation accuracy = 85.0% (N=100)\n",
      "INFO:tensorflow:2021-07-16 07:29:30.484979: Step 240: Train accuracy = 94.0%\n",
      "INFO:tensorflow:2021-07-16 07:29:30.485178: Step 240: Cross entropy = 0.239625\n",
      "INFO:tensorflow:2021-07-16 07:29:30.514628: Step 240: Validation accuracy = 83.0% (N=100)\n",
      "INFO:tensorflow:2021-07-16 07:29:30.805241: Step 250: Train accuracy = 98.0%\n",
      "INFO:tensorflow:2021-07-16 07:29:30.805393: Step 250: Cross entropy = 0.096525\n",
      "INFO:tensorflow:2021-07-16 07:29:30.835663: Step 250: Validation accuracy = 93.0% (N=100)\n",
      "INFO:tensorflow:2021-07-16 07:29:31.131130: Step 260: Train accuracy = 95.0%\n",
      "INFO:tensorflow:2021-07-16 07:29:31.131275: Step 260: Cross entropy = 0.184028\n",
      "INFO:tensorflow:2021-07-16 07:29:31.161172: Step 260: Validation accuracy = 84.0% (N=100)\n",
      "INFO:tensorflow:2021-07-16 07:29:31.462520: Step 270: Train accuracy = 96.0%\n",
      "INFO:tensorflow:2021-07-16 07:29:31.462690: Step 270: Cross entropy = 0.164751\n",
      "INFO:tensorflow:2021-07-16 07:29:31.492557: Step 270: Validation accuracy = 92.0% (N=100)\n",
      "INFO:tensorflow:2021-07-16 07:29:31.775348: Step 280: Train accuracy = 94.0%\n",
      "INFO:tensorflow:2021-07-16 07:29:31.775496: Step 280: Cross entropy = 0.128004\n",
      "INFO:tensorflow:2021-07-16 07:29:31.805313: Step 280: Validation accuracy = 85.0% (N=100)\n",
      "INFO:tensorflow:2021-07-16 07:29:32.110209: Step 290: Train accuracy = 96.0%\n",
      "INFO:tensorflow:2021-07-16 07:29:32.110372: Step 290: Cross entropy = 0.174252\n",
      "INFO:tensorflow:2021-07-16 07:29:32.138735: Step 290: Validation accuracy = 85.0% (N=100)\n",
      "INFO:tensorflow:2021-07-16 07:29:32.421117: Step 300: Train accuracy = 93.0%\n",
      "INFO:tensorflow:2021-07-16 07:29:32.421283: Step 300: Cross entropy = 0.218949\n",
      "INFO:tensorflow:2021-07-16 07:29:32.448116: Step 300: Validation accuracy = 85.0% (N=100)\n",
      "INFO:tensorflow:2021-07-16 07:29:32.725160: Step 310: Train accuracy = 97.0%\n",
      "INFO:tensorflow:2021-07-16 07:29:32.725305: Step 310: Cross entropy = 0.109358\n",
      "INFO:tensorflow:2021-07-16 07:29:32.752465: Step 310: Validation accuracy = 89.0% (N=100)\n",
      "INFO:tensorflow:2021-07-16 07:29:33.028141: Step 320: Train accuracy = 93.0%\n",
      "INFO:tensorflow:2021-07-16 07:29:33.028332: Step 320: Cross entropy = 0.234945\n",
      "INFO:tensorflow:2021-07-16 07:29:33.056745: Step 320: Validation accuracy = 81.0% (N=100)\n",
      "INFO:tensorflow:2021-07-16 07:29:33.336120: Step 330: Train accuracy = 95.0%\n",
      "INFO:tensorflow:2021-07-16 07:29:33.336267: Step 330: Cross entropy = 0.163389\n",
      "INFO:tensorflow:2021-07-16 07:29:33.362653: Step 330: Validation accuracy = 81.0% (N=100)\n",
      "INFO:tensorflow:2021-07-16 07:29:33.638963: Step 340: Train accuracy = 92.0%\n",
      "INFO:tensorflow:2021-07-16 07:29:33.639117: Step 340: Cross entropy = 0.173453\n",
      "INFO:tensorflow:2021-07-16 07:29:33.667256: Step 340: Validation accuracy = 84.0% (N=100)\n",
      "INFO:tensorflow:2021-07-16 07:29:33.957176: Step 350: Train accuracy = 86.0%\n",
      "INFO:tensorflow:2021-07-16 07:29:33.957320: Step 350: Cross entropy = 0.354031\n",
      "INFO:tensorflow:2021-07-16 07:29:33.984746: Step 350: Validation accuracy = 94.0% (N=100)\n",
      "INFO:tensorflow:2021-07-16 07:29:34.266712: Step 360: Train accuracy = 97.0%\n",
      "INFO:tensorflow:2021-07-16 07:29:34.266869: Step 360: Cross entropy = 0.092857\n",
      "INFO:tensorflow:2021-07-16 07:29:34.294387: Step 360: Validation accuracy = 82.0% (N=100)\n",
      "INFO:tensorflow:2021-07-16 07:29:34.568525: Step 370: Train accuracy = 95.0%\n",
      "INFO:tensorflow:2021-07-16 07:29:34.568671: Step 370: Cross entropy = 0.183871\n",
      "INFO:tensorflow:2021-07-16 07:29:34.595846: Step 370: Validation accuracy = 85.0% (N=100)\n",
      "INFO:tensorflow:2021-07-16 07:29:34.873589: Step 380: Train accuracy = 98.0%\n",
      "INFO:tensorflow:2021-07-16 07:29:34.873722: Step 380: Cross entropy = 0.132920\n",
      "INFO:tensorflow:2021-07-16 07:29:34.900161: Step 380: Validation accuracy = 87.0% (N=100)\n",
      "INFO:tensorflow:2021-07-16 07:29:35.180527: Step 390: Train accuracy = 95.0%\n",
      "INFO:tensorflow:2021-07-16 07:29:35.180724: Step 390: Cross entropy = 0.109029\n",
      "INFO:tensorflow:2021-07-16 07:29:35.209358: Step 390: Validation accuracy = 83.0% (N=100)\n",
      "INFO:tensorflow:2021-07-16 07:29:35.498920: Step 400: Train accuracy = 99.0%\n",
      "INFO:tensorflow:2021-07-16 07:29:35.499062: Step 400: Cross entropy = 0.096966\n",
      "INFO:tensorflow:2021-07-16 07:29:35.529096: Step 400: Validation accuracy = 90.0% (N=100)\n",
      "INFO:tensorflow:2021-07-16 07:29:35.810030: Step 410: Train accuracy = 95.0%\n",
      "INFO:tensorflow:2021-07-16 07:29:35.810224: Step 410: Cross entropy = 0.197543\n",
      "INFO:tensorflow:2021-07-16 07:29:35.838293: Step 410: Validation accuracy = 81.0% (N=100)\n",
      "INFO:tensorflow:2021-07-16 07:29:36.121293: Step 420: Train accuracy = 99.0%\n",
      "INFO:tensorflow:2021-07-16 07:29:36.121440: Step 420: Cross entropy = 0.081016\n",
      "INFO:tensorflow:2021-07-16 07:29:36.149898: Step 420: Validation accuracy = 88.0% (N=100)\n",
      "INFO:tensorflow:2021-07-16 07:29:36.436486: Step 430: Train accuracy = 97.0%\n",
      "INFO:tensorflow:2021-07-16 07:29:36.436633: Step 430: Cross entropy = 0.116706\n",
      "INFO:tensorflow:2021-07-16 07:29:36.464216: Step 430: Validation accuracy = 89.0% (N=100)\n",
      "INFO:tensorflow:2021-07-16 07:29:36.757551: Step 440: Train accuracy = 96.0%\n",
      "INFO:tensorflow:2021-07-16 07:29:36.757697: Step 440: Cross entropy = 0.133808\n",
      "INFO:tensorflow:2021-07-16 07:29:36.785763: Step 440: Validation accuracy = 90.0% (N=100)\n",
      "INFO:tensorflow:2021-07-16 07:29:37.070180: Step 450: Train accuracy = 97.0%\n",
      "INFO:tensorflow:2021-07-16 07:29:37.070314: Step 450: Cross entropy = 0.089181\n",
      "INFO:tensorflow:2021-07-16 07:29:37.100138: Step 450: Validation accuracy = 87.0% (N=100)\n",
      "INFO:tensorflow:2021-07-16 07:29:37.398853: Step 460: Train accuracy = 96.0%\n",
      "INFO:tensorflow:2021-07-16 07:29:37.398995: Step 460: Cross entropy = 0.171365\n",
      "INFO:tensorflow:2021-07-16 07:29:37.425662: Step 460: Validation accuracy = 87.0% (N=100)\n",
      "INFO:tensorflow:2021-07-16 07:29:37.723113: Step 470: Train accuracy = 96.0%\n",
      "INFO:tensorflow:2021-07-16 07:29:37.723243: Step 470: Cross entropy = 0.122372\n",
      "INFO:tensorflow:2021-07-16 07:29:37.751774: Step 470: Validation accuracy = 93.0% (N=100)\n",
      "INFO:tensorflow:2021-07-16 07:29:38.044340: Step 480: Train accuracy = 93.0%\n",
      "INFO:tensorflow:2021-07-16 07:29:38.044472: Step 480: Cross entropy = 0.224502\n",
      "INFO:tensorflow:2021-07-16 07:29:38.071413: Step 480: Validation accuracy = 82.0% (N=100)\n",
      "INFO:tensorflow:2021-07-16 07:29:38.366274: Step 490: Train accuracy = 95.0%\n",
      "INFO:tensorflow:2021-07-16 07:29:38.366449: Step 490: Cross entropy = 0.187125\n",
      "INFO:tensorflow:2021-07-16 07:29:38.396950: Step 490: Validation accuracy = 91.0% (N=100)\n",
      "INFO:tensorflow:2021-07-16 07:29:38.658151: Step 499: Train accuracy = 97.0%\n",
      "INFO:tensorflow:2021-07-16 07:29:38.658296: Step 499: Cross entropy = 0.091454\n",
      "INFO:tensorflow:2021-07-16 07:29:38.685613: Step 499: Validation accuracy = 93.0% (N=100)\n",
      "INFO:tensorflow:Final test accuracy = 85.6% (N=362)\n",
      "WARNING:tensorflow:From scripts/retrain.py:827: convert_variables_to_constants (from tensorflow.python.framework.graph_util_impl) is deprecated and will be removed in a future version.\n",
      "Instructions for updating:\n",
      "Use tf.compat.v1.graph_util.convert_variables_to_constants\n",
      "WARNING:tensorflow:From /home/gazuru/anaconda3/envs/venv_x/lib/python3.6/site-packages/tensorflow/python/framework/graph_util_impl.py:245: extract_sub_graph (from tensorflow.python.framework.graph_util_impl) is deprecated and will be removed in a future version.\n",
      "Instructions for updating:\n",
      "Use tf.compat.v1.graph_util.extract_sub_graph\n",
      "INFO:tensorflow:Froze 2 variables.\n",
      "INFO:tensorflow:Converted 2 variables to const ops.\n"
     ]
    }
   ],
   "source": [
    "! python scripts/retrain.py \\\n",
    "  --bottleneck_dir=tf_files/bottlenecks \\\n",
    "  --how_many_training_steps=500 \\\n",
    "  --model_dir=tf_files/models/ \\\n",
    "  --summaries_dir=tf_files/training_summaries/$ARCHITECTURE \\\n",
    "  --output_graph=tf_files/retrained_graph.pb \\\n",
    "  --output_labels=tf_files/retrained_labels.txt \\\n",
    "  --architecture=$ARCHITECTURE \\\n",
    "  --image_dir=tf_files/flower_photos"
   ]
  },
  {
   "cell_type": "code",
   "execution_count": 28,
   "metadata": {
    "collapsed": false,
    "scrolled": true
   },
   "outputs": [
    {
     "name": "stdout",
     "output_type": "stream",
     "text": [
      "  % Total    % Received % Xferd  Average Speed   Time    Time     Time  Current\n",
      "                                 Dload  Upload   Total   Spent    Left  Speed\n",
      "100   103  100   103    0     0    890      0 --:--:-- --:--:-- --:--:--  1157\n",
      "100 4939k  100 4939k    0     0  11.5M      0 --:--:-- --:--:-- --:--:-- 27.4M\n"
     ]
    }
   ],
   "source": [
    "! curl -LO https://dl.google.com/dl/aiyprojects/vision/bonnet_model_compiler_latest.tgz\t\n",
    "\n",
    "! tar -xzf bonnet_model_compiler_latest.tgz"
   ]
  },
  {
   "cell_type": "code",
   "execution_count": 34,
   "metadata": {
    "collapsed": false
   },
   "outputs": [
    {
     "name": "stdout",
     "output_type": "stream",
     "text": [
      "export _PAR_INTERPRETER=\"/home/\"$USER\"/anaconda3/envs/venv_x/bin/python\"\r\n"
     ]
    }
   ],
   "source": [
    "! sed -i '25s#.*#export _PAR_INTERPRETER=\"/home/\"$USER\"/anaconda3/envs/venv_x/bin/python\"#' bonnet_model_compiler.par | sed '25q;d' bonnet_model_compiler.par"
   ]
  },
  {
   "cell_type": "code",
   "execution_count": 25,
   "metadata": {
    "collapsed": false,
    "scrolled": true
   },
   "outputs": [
    {
     "name": "stdout",
     "output_type": "stream",
     "text": [
      "VisionBonnet model binary tf_files/retrained_graph.binaryproto generated.\r\n"
     ]
    }
   ],
   "source": [
    "! ./bonnet_model_compiler.par \\\n",
    "  --frozen_graph_path=tf_files/retrained_graph.pb \\\n",
    "  --output_graph_path=tf_files/retrained_graph.binaryproto \\\n",
    "  --input_tensor_name=input \\\n",
    "  --output_tensor_names=final_result \\\n",
    "  --input_tensor_size=160 \\\n",
    "  --debug"
   ]
  }
 ],
 "metadata": {
  "kernelspec": {
   "display_name": "Python 3",
   "language": "python",
   "name": "python3"
  },
  "language_info": {
   "codemirror_mode": {
    "name": "ipython",
    "version": 3
   },
   "file_extension": ".py",
   "mimetype": "text/x-python",
   "name": "python",
   "nbconvert_exporter": "python",
   "pygments_lexer": "ipython3",
   "version": "3.5.4"
  }
 },
 "nbformat": 4,
 "nbformat_minor": 0
}
